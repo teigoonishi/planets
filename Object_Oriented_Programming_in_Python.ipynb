{
  "nbformat": 4,
  "nbformat_minor": 0,
  "metadata": {
    "colab": {
      "name": "Object-Oriented Programming in Python.ipynb",
      "provenance": [],
      "collapsed_sections": [],
      "authorship_tag": "ABX9TyNsZaqLoIXrAKZCob/y0K0y",
      "include_colab_link": true
    },
    "kernelspec": {
      "name": "python3",
      "display_name": "Python 3"
    },
    "language_info": {
      "name": "python"
    }
  },
  "cells": [
    {
      "cell_type": "markdown",
      "metadata": {
        "id": "view-in-github",
        "colab_type": "text"
      },
      "source": [
        "<a href=\"https://colab.research.google.com/github/teigoonishi/planets/blob/main/Object_Oriented_Programming_in_Python.ipynb\" target=\"_parent\"><img src=\"https://colab.research.google.com/assets/colab-badge.svg\" alt=\"Open In Colab\"/></a>"
      ]
    },
    {
      "cell_type": "markdown",
      "metadata": {
        "id": "E4zmybpcFHWP"
      },
      "source": [
        "#1 OOP Fundamentals  \n",
        "\n",
        "Object = state + behavior  \n",
        " - email = lara@company.com\n",
        " - phone = 614-555-0177\n",
        " - place order\n",
        " - cancel order  \n",
        "\n",
        " Customer class\n",
        "  - email\n",
        "  - phone\n",
        "  - place order\n",
        "  - cancel order"
      ]
    },
    {
      "cell_type": "code",
      "metadata": {
        "colab": {
          "base_uri": "https://localhost:8080/"
        },
        "id": "HBJoGqvsFFfR",
        "outputId": "68783ac3-8ab1-4cdd-982c-17c83c8212c1"
      },
      "source": [
        "# type() でクラスを確認することができる.\n",
        "\n",
        "import numpy as np\n",
        "a = np.array([1,2,3,4])\n",
        "print(type(a))"
      ],
      "execution_count": null,
      "outputs": [
        {
          "output_type": "stream",
          "text": [
            "<class 'numpy.ndarray'>\n"
          ],
          "name": "stdout"
        }
      ]
    },
    {
      "cell_type": "code",
      "metadata": {
        "colab": {
          "base_uri": "https://localhost:8080/"
        },
        "id": "GG91EMEQG5Ox",
        "outputId": "691172a3-b5db-4097-9beb-e4ae4c19241d"
      },
      "source": [
        "# State >> Attribute (variable)\n",
        "# \"shape\" attribute\n",
        "a.shape"
      ],
      "execution_count": null,
      "outputs": [
        {
          "output_type": "execute_result",
          "data": {
            "text/plain": [
              "(4,)"
            ]
          },
          "metadata": {
            "tags": []
          },
          "execution_count": 2
        }
      ]
    },
    {
      "cell_type": "code",
      "metadata": {
        "colab": {
          "base_uri": "https://localhost:8080/"
        },
        "id": "4vcXASVzHACW",
        "outputId": "abe528c1-7d8f-4dc1-85fa-2039966c350d"
      },
      "source": [
        "# Behavior >> Methods (function)\n",
        "# \"reshape\" method\n",
        "a.reshape(2,2)"
      ],
      "execution_count": null,
      "outputs": [
        {
          "output_type": "execute_result",
          "data": {
            "text/plain": [
              "array([[1, 2],\n",
              "       [3, 4]])"
            ]
          },
          "metadata": {
            "tags": []
          },
          "execution_count": 3
        }
      ]
    },
    {
      "cell_type": "code",
      "metadata": {
        "colab": {
          "base_uri": "https://localhost:8080/"
        },
        "id": "o05I8kBwHL1Q",
        "outputId": "23c5928d-d8b9-4d11-f863-912d5d846e22"
      },
      "source": [
        "# dir() lists all attributes and methods\n",
        "dir(a)"
      ],
      "execution_count": null,
      "outputs": [
        {
          "output_type": "execute_result",
          "data": {
            "text/plain": [
              "['T',\n",
              " '__abs__',\n",
              " '__add__',\n",
              " '__and__',\n",
              " '__array__',\n",
              " '__array_finalize__',\n",
              " '__array_function__',\n",
              " '__array_interface__',\n",
              " '__array_prepare__',\n",
              " '__array_priority__',\n",
              " '__array_struct__',\n",
              " '__array_ufunc__',\n",
              " '__array_wrap__',\n",
              " '__bool__',\n",
              " '__class__',\n",
              " '__complex__',\n",
              " '__contains__',\n",
              " '__copy__',\n",
              " '__deepcopy__',\n",
              " '__delattr__',\n",
              " '__delitem__',\n",
              " '__dir__',\n",
              " '__divmod__',\n",
              " '__doc__',\n",
              " '__eq__',\n",
              " '__float__',\n",
              " '__floordiv__',\n",
              " '__format__',\n",
              " '__ge__',\n",
              " '__getattribute__',\n",
              " '__getitem__',\n",
              " '__gt__',\n",
              " '__hash__',\n",
              " '__iadd__',\n",
              " '__iand__',\n",
              " '__ifloordiv__',\n",
              " '__ilshift__',\n",
              " '__imatmul__',\n",
              " '__imod__',\n",
              " '__imul__',\n",
              " '__index__',\n",
              " '__init__',\n",
              " '__init_subclass__',\n",
              " '__int__',\n",
              " '__invert__',\n",
              " '__ior__',\n",
              " '__ipow__',\n",
              " '__irshift__',\n",
              " '__isub__',\n",
              " '__iter__',\n",
              " '__itruediv__',\n",
              " '__ixor__',\n",
              " '__le__',\n",
              " '__len__',\n",
              " '__lshift__',\n",
              " '__lt__',\n",
              " '__matmul__',\n",
              " '__mod__',\n",
              " '__mul__',\n",
              " '__ne__',\n",
              " '__neg__',\n",
              " '__new__',\n",
              " '__or__',\n",
              " '__pos__',\n",
              " '__pow__',\n",
              " '__radd__',\n",
              " '__rand__',\n",
              " '__rdivmod__',\n",
              " '__reduce__',\n",
              " '__reduce_ex__',\n",
              " '__repr__',\n",
              " '__rfloordiv__',\n",
              " '__rlshift__',\n",
              " '__rmatmul__',\n",
              " '__rmod__',\n",
              " '__rmul__',\n",
              " '__ror__',\n",
              " '__rpow__',\n",
              " '__rrshift__',\n",
              " '__rshift__',\n",
              " '__rsub__',\n",
              " '__rtruediv__',\n",
              " '__rxor__',\n",
              " '__setattr__',\n",
              " '__setitem__',\n",
              " '__setstate__',\n",
              " '__sizeof__',\n",
              " '__str__',\n",
              " '__sub__',\n",
              " '__subclasshook__',\n",
              " '__truediv__',\n",
              " '__xor__',\n",
              " 'all',\n",
              " 'any',\n",
              " 'argmax',\n",
              " 'argmin',\n",
              " 'argpartition',\n",
              " 'argsort',\n",
              " 'astype',\n",
              " 'base',\n",
              " 'byteswap',\n",
              " 'choose',\n",
              " 'clip',\n",
              " 'compress',\n",
              " 'conj',\n",
              " 'conjugate',\n",
              " 'copy',\n",
              " 'ctypes',\n",
              " 'cumprod',\n",
              " 'cumsum',\n",
              " 'data',\n",
              " 'diagonal',\n",
              " 'dot',\n",
              " 'dtype',\n",
              " 'dump',\n",
              " 'dumps',\n",
              " 'fill',\n",
              " 'flags',\n",
              " 'flat',\n",
              " 'flatten',\n",
              " 'getfield',\n",
              " 'imag',\n",
              " 'item',\n",
              " 'itemset',\n",
              " 'itemsize',\n",
              " 'max',\n",
              " 'mean',\n",
              " 'min',\n",
              " 'nbytes',\n",
              " 'ndim',\n",
              " 'newbyteorder',\n",
              " 'nonzero',\n",
              " 'partition',\n",
              " 'prod',\n",
              " 'ptp',\n",
              " 'put',\n",
              " 'ravel',\n",
              " 'real',\n",
              " 'repeat',\n",
              " 'reshape',\n",
              " 'resize',\n",
              " 'round',\n",
              " 'searchsorted',\n",
              " 'setfield',\n",
              " 'setflags',\n",
              " 'shape',\n",
              " 'size',\n",
              " 'sort',\n",
              " 'squeeze',\n",
              " 'std',\n",
              " 'strides',\n",
              " 'sum',\n",
              " 'swapaxes',\n",
              " 'take',\n",
              " 'tobytes',\n",
              " 'tofile',\n",
              " 'tolist',\n",
              " 'tostring',\n",
              " 'trace',\n",
              " 'transpose',\n",
              " 'var',\n",
              " 'view']"
            ]
          },
          "metadata": {
            "tags": []
          },
          "execution_count": 4
        }
      ]
    },
    {
      "cell_type": "code",
      "metadata": {
        "id": "3qcdZJskIf2s"
      },
      "source": [
        "class Customer:\n",
        "  # code for class goes here\n",
        "  pass\n",
        "\n",
        "c1 = Customer() # use ClassName to \n",
        "c2 = Customer()"
      ],
      "execution_count": null,
      "outputs": []
    },
    {
      "cell_type": "code",
      "metadata": {
        "id": "kJC4bQ5YJsUd"
      },
      "source": [
        "class Customer:\n",
        "  \n",
        "  # method definition = function definition within class\n",
        "  def identify(self, name): # Use self as the first argument in method definition\n",
        "    print(\"I am Customer \" + name)\n",
        "\n",
        "  def set_name(self, new_name):\n",
        "    # Create an attribute by assigining a value\n",
        "    self.name = new_name  # <-- will create .name when set_name is called!"
      ],
      "execution_count": null,
      "outputs": []
    },
    {
      "cell_type": "code",
      "metadata": {
        "colab": {
          "base_uri": "https://localhost:8080/"
        },
        "id": "Ub3NTPiTJ0yy",
        "outputId": "0c0b03c7-f9a7-43cf-e513-16cb5fca89a1"
      },
      "source": [
        "cust = Customer()       # <--.name attribute doesn't exist here yet.\n",
        "cust.identify(\"Laura\")  \n",
        "\n",
        "cust.set_name(\"Lara de Silva\") # <--.name is created and set to \"Lara de Silva\"\n",
        "print(cust.name)"
      ],
      "execution_count": null,
      "outputs": [
        {
          "output_type": "stream",
          "text": [
            "I am Customer Laura\n",
            "Lara de Silva\n"
          ],
          "name": "stdout"
        }
      ]
    },
    {
      "cell_type": "markdown",
      "metadata": {
        "id": "bAOZ4goBKBtO"
      },
      "source": [
        "What is self?\n",
        "- classes are templates, how to refer data of a particular object?\n",
        "- `self` is a stand-in for a particular object used in class definition\n",
        "- should be the first argument of any method\n",
        "- Python will take care of `self` when method called from an object:\n",
        "`cust.identify(\"Laura\")` will be interpreted as `Customer.identify(cust, \"Laura\")`"
      ]
    },
    {
      "cell_type": "code",
      "metadata": {
        "id": "8WA4BsyfLQhe"
      },
      "source": [
        "# New version\n",
        "class Customer:\n",
        "\n",
        "  def set_name(self, new_name):\n",
        "    self.name = new_name                   # \".name\" attribute を生成する.\n",
        "\n",
        "  # Using .name rom the object itself!\n",
        "  def identify(self):\n",
        "    print(\"I am Customer \" + self.name)   # \".name\" attribute を使う."
      ],
      "execution_count": null,
      "outputs": []
    },
    {
      "cell_type": "code",
      "metadata": {
        "colab": {
          "base_uri": "https://localhost:8080/"
        },
        "id": "QmtDiZAlLeJm",
        "outputId": "7b815768-5c92-4222-8c32-bfe3baf460d3"
      },
      "source": [
        "cust = Customer()\n",
        "cust.set_name(\"Rashid Volkov\")\n",
        "cust.identify()"
      ],
      "execution_count": null,
      "outputs": [
        {
          "output_type": "stream",
          "text": [
            "I am Customer Rashid Volkov\n"
          ],
          "name": "stdout"
        }
      ]
    },
    {
      "cell_type": "code",
      "metadata": {
        "colab": {
          "base_uri": "https://localhost:8080/"
        },
        "id": "RxvqXxW0Oy_K",
        "outputId": "e9ed42d9-f4fc-4799-c803-6ff2d39dc36a"
      },
      "source": [
        "class Customer:\n",
        "  def __init__(self, name):   # Constructor\n",
        "    self.name = name\n",
        "    print(\"The __init__ method was called\")\n",
        "\n",
        "cust = Customer(\"Lara de Silva\") # <-- __init__ is implicitly called\n",
        "print(cust.name)"
      ],
      "execution_count": null,
      "outputs": [
        {
          "output_type": "stream",
          "text": [
            "The __init__ method was called\n",
            "Lara de Silva\n"
          ],
          "name": "stdout"
        }
      ]
    },
    {
      "cell_type": "code",
      "metadata": {
        "colab": {
          "base_uri": "https://localhost:8080/"
        },
        "id": "H7v3bUqEPJ4k",
        "outputId": "b3ba1228-423c-4482-b248-fb9d1248652f"
      },
      "source": [
        "class Customer:\n",
        "  def __init__(self, name, balance):   # Constructor; balance parameter added\n",
        "    self.name = name\n",
        "    self.balance = balance\n",
        "    print(\"The __init__ method was called\")\n",
        "\n",
        "cust = Customer(\"Lara de Silva\", 1000) # <-- __init__ is implicitly called\n",
        "print(cust.name)\n",
        "print(cust.balance)"
      ],
      "execution_count": null,
      "outputs": [
        {
          "output_type": "stream",
          "text": [
            "The __init__ method was called\n",
            "Lara de Silva\n",
            "1000\n"
          ],
          "name": "stdout"
        }
      ]
    },
    {
      "cell_type": "code",
      "metadata": {
        "colab": {
          "base_uri": "https://localhost:8080/"
        },
        "id": "1R1vX5hcPYpD",
        "outputId": "f67947c3-a804-4992-fc97-23b0f858c096"
      },
      "source": [
        "class Customer:\n",
        "  def __init__(self, name, balance=0):   # Set default value for balance\n",
        "    self.name = name\n",
        "    self.balance = balance\n",
        "    print(\"The __init__ method was called\")\n",
        "\n",
        "cust = Customer(\"Lara de Silva\") # <-- Don't specify balance explicitly\n",
        "print(cust.name)\n",
        "print(cust.balance)"
      ],
      "execution_count": null,
      "outputs": [
        {
          "output_type": "stream",
          "text": [
            "The __init__ method was called\n",
            "Lara de Silva\n",
            "0\n"
          ],
          "name": "stdout"
        }
      ]
    }
  ]
}